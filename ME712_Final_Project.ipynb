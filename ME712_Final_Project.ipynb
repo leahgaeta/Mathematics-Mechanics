{
 "cells": [
  {
   "attachments": {},
   "cell_type": "markdown",
   "metadata": {
    "slideshow": {
     "slide_type": "slide"
    }
   },
   "source": [
    "## Approximating the Stance Map of the SLIP Runner Based on Perturbation Approach\n",
    "** Haitao Yu, Mantian Li, and Hegao Cai **\n",
    "![image1_title](hopping_gait_period.png)\n",
    "---\n",
    "### Presented by Leah Gaeta for ME 712\n",
    "** Tuesday, December 8, 2020 **"
   ]
  },
  {
   "cell_type": "markdown",
   "metadata": {
    "slideshow": {
     "slide_type": "slide"
    }
   },
   "source": [
    "## Introduction\n",
    "---\n",
    "- Engineers want to study legged dynamic walking to develop analagous machines (robots that can run smoothly)\n",
    "- The Spring Loaded Inverted Pendulum (SLIP), or monopedal runner, is widely used to depict running and hopping in mammalian and human locomotion\n",
    "    - Nonlinear model that has nonintegrable terms due to gravity in the stance phase\n",
    "    - Most previous approximations proposed ignore gravity\n",
    "    - Effects of gravitational forces cannot be neglected in locomotion analysis\n",
    "- Goal: produce an accurate approximation of stance map that works in both symmetric and asymmetric cases, and includes gravitational effects\n",
    "    - Perturbation methods are used to obtain an approximate solution"
   ]
  },
  {
   "attachments": {},
   "cell_type": "markdown",
   "metadata": {
    "slideshow": {
     "slide_type": "slide"
    }
   },
   "source": [
    "## The Spring Loaded Inverted Pendulum (SLIP) Model\n",
    "#### The 2-Degrees of Freedom Model\n",
    "---\n",
    "The SLIP model is comprised of a massless leg (spring) that abides by Hooke's law and is connected to a point mass m at the hip joint.\n",
    "![image2_title](SLIP_model.png)"
   ]
  },
  {
   "attachments": {},
   "cell_type": "markdown",
   "metadata": {
    "slideshow": {
     "slide_type": "slide"
    }
   },
   "source": [
    "## The Spring Loaded Inverted Pendulum (SLIP) Model\n",
    "#### Complete Hopping Gait Period\n",
    "---\n",
    "In a complete gait period, the alternating touch down and lift off events contribute to the characteristic locomotion switching between the stance and flight phases\n",
    "- Touch down: toe makes contact with the ground\n",
    "- Lift off: toe loses contact with the ground\n",
    "![image3_title](hopping_gait_period.png)\n",
    "\n",
    "Assumptions:\n",
    "- No energy dissipation during locomotion\n",
    "- No torque applied at the hip in stance phase, meaning the toe of the planting foot does not slip and is stationary"
   ]
  },
  {
   "attachments": {},
   "cell_type": "markdown",
   "metadata": {
    "slideshow": {
     "slide_type": "slide"
    }
   },
   "source": [
    "## The Spring Loaded Inverted Pendulum (SLIP) Model\n",
    "#### The Dynamics\n",
    "---\n",
    "![image4_title](variables.png)"
   ]
  },
  {
   "cell_type": "markdown",
   "metadata": {
    "slideshow": {
     "slide_type": "slide"
    }
   },
   "source": [
    "## The Spring Loaded Inverted Pendulum (SLIP) Model\n",
    "#### The Dynamics\n",
    "---\n",
    "The analytical solution of the SLIP model in flight phase can be found but an accurate solution for the stance phase is more difficult.\n",
    "\n",
    "The Lagrange function of stance phase in polar coordinates $(r,\\theta)$ is given by\n",
    "$$\n",
    "\\begin{equation*}\n",
    "L = \\frac{m}{2}(\\dot{r}^2 + r^2\\dot{\\theta}^2) - \\frac{k}{2}(r_0 - r)^2 - mgrcos\\theta\n",
    "\\tag{1}\n",
    "\\end{equation*}\n",
    "$$\n",
    "\n",
    "The equations of motion of the stance phase are derived as\n",
    "$$\n",
    "\\begin{equation*}\n",
    "m\\ddot{r} + k(r - r_0) + mgcos\\theta - mr\\dot{\\theta}^2 = 0 \\\\\n",
    "\\frac{d}{dt}(mr^2\\dot{\\theta}) - mgrsin\\theta = 0\n",
    "\\tag{2}\n",
    "\\end{equation*}\n",
    "$$\n",
    "Note that $(2)$ is a set of nonlinear differential equations. However, exact analytical solutions for the stance phase are difficult to obtain due to the nonintegrable terms from gravity in stance dynamics."
   ]
  },
  {
   "cell_type": "markdown",
   "metadata": {
    "slideshow": {
     "slide_type": "slide"
    }
   },
   "source": [
    "## The Spring Loaded Inverted Pendulum (SLIP) Model\n",
    "#### Dimensional Analysis\n",
    "---\n",
    "$s$ is the time scale and differentiation $(  )'\\equiv \\frac{d}{d\\bar{t}}$ is with respect to nondimensional $\\bar{t}$\n",
    "$$\n",
    "\\begin{equation*}\n",
    "\\tag{3}\n",
    "\\end{equation*}\n",
    "$$\n",
    "\n",
    "| Variable        | Dimension | Change of Variables     | First Derivative                | Second Derivative |\n",
    "|:----------------|:---------:|:-----------------------:|:-------------------------------:|:-----------------:|\n",
    "| Time            | $[T]$     | $\\bar{t} = \\frac{t}{s}$         |                                 |                   |\n",
    "| Leg Length | $[L]$ | $\\bar{r} = \\frac{r}{r_0}$ | $\\bar{r}' = s\\frac{\\dot{r}}{r_0}$ | $\\bar{r}'' = s^2\\frac{\\ddot{r}}{r_0}$ |\n",
    "| Horizontal Position | $[L]$ | $\\bar{x} = \\frac{x}{r_0}$ | $\\bar{x}' = s\\frac{\\dot{x}}{r_0}$ | $\\bar{x}'' = s^2\\frac{\\ddot{x}}{r_0}$ |\n",
    "| Vertical Position   | $[L]$ | $\\bar{y} = \\frac{y}{r_0}$ | $\\bar{y}' = s\\frac{\\dot{y}}{r_0}$ | $\\bar{y}'' = s^2\\frac{\\ddot{y}}{r_0}$ |\n",
    "| Leg Angle |  | $\\bar{\\theta} = \\theta$ | $\\bar{\\theta}' = s\\dot{\\theta}$ | $\\bar{\\theta}'' = s^2\\ddot{\\theta}$ |\n",
    "\n",
    "The natural frequency of the horizontal oscillation motion is\n",
    "$$\n",
    "\\begin{equation*}\n",
    "\\frac{s^2 g}{r_0} = 1 \\qquad \\Rightarrow \\quad s = \\sqrt{\\frac{r_0}{g}}\n",
    "\\tag{4}\n",
    "\\end{equation*}\n",
    "$$\n",
    "\n",
    "The relative leg stiffness $(5)$, radial momentum $(6)$, and angular momentum $(7)$ are described below:\n",
    "$$\n",
    "\\begin{equation*}\n",
    "\\bar{k} = \\frac{kr_0}{mg}\n",
    "\\tag{5}\n",
    "\\end{equation*}\n",
    "$$\n",
    "$$\n",
    "\\begin{equation*}\n",
    "\\bar{P_r} = \\frac{P_rs}{mr_0}\n",
    "\\tag{6}\n",
    "\\end{equation*}\n",
    "$$\n",
    "$$\n",
    "\\begin{equation*}\n",
    "\\bar{P_{\\theta}} = \\frac{P_{\\theta}mr_0^2}{s}\n",
    "\\tag{7}\n",
    "\\end{equation*}\n",
    "$$"
   ]
  },
  {
   "cell_type": "markdown",
   "metadata": {
    "slideshow": {
     "slide_type": "slide"
    }
   },
   "source": [
    "## The Spring Loaded Inverted Pendulum (SLIP) Model\n",
    "#### Dimensional Analysis\n",
    "---\n",
    "Substituting $(3)$, $(4)$, and $(5)$ into $(2)$, we get the equations of stance dynamics in dimensionless form.\n",
    "$$\n",
    "\\begin{equation*}\n",
    "\\bar{r}'' + \\bar{k}(\\bar{r} - 1) + cos\\bar{\\theta} - \\bar{r}\\bar{\\theta}'^2 = 0\n",
    "\\tag{8}\n",
    "\\end{equation*}\n",
    "$$\n",
    "$$\n",
    "\\begin{equation*}\n",
    "(\\bar{r}^2\\bar{\\theta}')' - \\bar{r}sin\\bar{\\theta} = 0\n",
    "\\tag{9}\n",
    "\\end{equation*}\n",
    "$$\n",
    "\n",
    "Assuming a small angular span during stance phase $\\Delta\\theta$, $cos\\theta \\approx 1$ and $sin\\theta \\approx \\theta$ and substituting this into $(8)$ and $(9)$ and get\n",
    "$$\n",
    "\\begin{equation*}\n",
    "\\bar{r}'' + \\bar{k}\\bar{r} = \\bar{k} - 1 + \\bar{r}\\bar{\\theta}'^2\n",
    "\\tag{10}\n",
    "\\end{equation*}\n",
    "$$\n",
    "$$\n",
    "\\begin{equation*}\n",
    "(\\bar{r}^2\\bar{\\theta}')' = \\bar{r}\\bar{\\theta}\n",
    "\\tag{11}\n",
    "\\end{equation*}\n",
    "$$"
   ]
  },
  {
   "cell_type": "markdown",
   "metadata": {
    "slideshow": {
     "slide_type": "slide"
    }
   },
   "source": [
    "## The Perturbation Solutions for a Stance Map\n",
    "#### Conservation of Angular Momentum\n",
    "---\n",
    "It's assumed that the angular momentum is conserved at the initial value $P_{\\theta}$ (touch down $(TD)$) for solving $(10)$ and then this constraint is relaxed to solve $(11)$.\n",
    "The initial angular momentum $C_r$ at $TD$ is defined as \n",
    "$$\n",
    "\\begin{equation*}\n",
    "C_r = \\bar{r}^2\\bar{\\theta}' = \\bar{r_{TD}}^2\\bar{\\theta_{TD}}'\n",
    "\\end{equation*}\n",
    "\\tag{12}\n",
    "$$\n",
    "\n",
    "The conservation of angular momentum can be written as\n",
    "$$\n",
    "\\begin{equation*}\n",
    "\\bar{r}^2\\bar{\\theta}' = C_r\n",
    "\\tag{13}\n",
    "\\end{equation*}\n",
    "$$\n",
    "\n",
    "Substituting $(13)$ into $(10)$ then yields\n",
    "$$\n",
    "\\begin{equation*}\n",
    "\\bar{r}'' + \\bar{k}\\bar{r} = \\bar{k} - 1 + \\frac{C_r^2}{\\bar{r}^3}\n",
    "\\tag{14}\n",
    "\\end{equation*}\n",
    "$$"
   ]
  },
  {
   "cell_type": "markdown",
   "metadata": {
    "slideshow": {
     "slide_type": "slide"
    }
   },
   "source": [
    "## The Pertubation Solutions for a Stance Map\n",
    "#### Relative Stiffness & Radial Motion\n",
    "---\n",
    "From assuming of sufficiently rough relative stiffness, we have $0 < 1 - \\bar{r} << 1$ and thus the term $ \\frac{1}{\\bar{r}^3}$ can be expanded in a Taylor Series (i.e. $f(x) = f(a) + f'(a)(x - a) + \\frac{1}{2!}f''(a)(x - a)^2 + ...$) around the *initial spring compression* $1 - \\bar{r_0} = 0$.\n",
    "$$\n",
    "\\begin{equation*}\n",
    "\\frac{1}{\\bar{r}^3} = \\frac{1}{1 - (1 - \\bar{r}))^3} = 1 + 3(1 - \\bar{r}) + O((1 - \\bar{r})^2) + ...\n",
    "\\tag{15}\n",
    "\\end{equation*}\n",
    "$$\n",
    "\n",
    "A small value of $1 - \\bar{r}$ allows for truncation of the square and higher terms in $(15)$. Therefore, $(14)$ turns into:\n",
    "$$\n",
    "\\begin{equation*}\n",
    "\\bar{r}'' + \\bar{r}(\\bar{k} + 3C_r^2) = \\bar{k} - 1 + 4C_r^2\n",
    "\\tag{16}\n",
    "\\end{equation*}\n",
    "$$\n",
    "\n",
    "This is solved to obtain the radial motion:\n",
    "$$\n",
    "\\begin{equation*}\n",
    "r_b = \\frac{\\bar{k} + 4C_r^2 - 1}{\\bar{k} + 3C_r^2} \\qquad \\omega_0 = \\sqrt{\\bar{k} + 3C_r^2} \\qquad \\qquad \\bar{r} = r_b + \\alpha cos(\\omega_0\\bar{t} + \\beta)\n",
    "\\tag{17}\n",
    "\\end{equation*}\n",
    "$$\n",
    "\n",
    "Given initial conditions $\\bar{r}_{TD} = 1$ and $\\bar{r}_{TD}'$, constants $\\alpha$ and $\\beta$ are determined to be:\n",
    "$$\n",
    "\\begin{equation*}\n",
    "\\alpha = (1 - r_b)\\sqrt{(1 - r_b)^2 + \\bar{r}_{TD}'^2/\\omega_0^2} \\qquad \\beta = tan^{-1}(\\bar{r}_{TD}'/(\\omega_0(r_b - 1)))\n",
    "\\tag{18}\n",
    "\\end{equation*}\n",
    "$$\n"
   ]
  },
  {
   "cell_type": "markdown",
   "metadata": {
    "slideshow": {
     "slide_type": "slide"
    }
   },
   "source": [
    "## The Perturbation Solutions for a Stance Map\n",
    "---\n",
    "Here, perturbation techniques are showcased to solve $\\theta$ with non-conservation of angular momentum, with the radial motion solved in $(17)$, turning equation $(11)$ into:\n",
    "$$\n",
    "\\begin{equation*}\n",
    "\\bar{\\theta}'' + \\frac{2\\bar{r}'}{\\bar{r}}\\bar{\\theta}' - \\frac{1}{\\bar{r}}\\bar{\\theta} = 0\n",
    "\\tag{19}\n",
    "\\end{equation*}\n",
    "$$\n",
    "\n",
    "Then $(19)$ can be transformed into one without the first derivative by making the substitution \n",
    "$$\n",
    "\\begin{equation*}\n",
    "\\theta(\\bar{t}) = p(\\bar{t})u(\\bar{t})\n",
    "\\tag{20}\n",
    "\\end{equation*}\n",
    "$$\n",
    "\n",
    "while noting that $p(\\bar{t})$ is an undetermined function for simplifying $(19)$. Substituting $(20)$ into $(19)$\n",
    "$$\n",
    "\\begin{equation*}\n",
    "pu'' + \\Big{(}2p' + \\frac{2r'p}{r}\\Big{)}u' + \\Big{(}\\frac{p'' + 2r'p'}{r} - \\frac{1}{r}\\Big{)}u = 0\n",
    "\\tag{21}\n",
    "\\end{equation*}\n",
    "$$\n",
    "\n",
    "Setting the coefficient of $u'$ equal to zero, we then have $2p' + {2r'p}/{r} = 0$. After separating variables and integrating, we get $p = {1}/{r}$. Substituting this into $(19)$ yields:\n",
    "$$\n",
    "\\begin{equation*}\n",
    "u'' - \\frac{1 + r''}{r}u = 0\n",
    "\\tag{22}\n",
    "\\end{equation*}\n",
    "$$\n",
    "\n",
    "Substituting $(17)$ into $(22)$ then gives:\n",
    "$$\n",
    "\\begin{equation*}\n",
    "u'' - \\Big{[}-\\omega_0^2 + \\Big{(}\\omega_0^2 + \\frac{1}{r_b}\\Big{)}\\frac{1}{1 + \\epsilon cos\\psi}\\Big{]}u = 0\n",
    "\\tag{23}\n",
    "\\end{equation*}\n",
    "$$\n",
    "where $\\epsilon = \\alpha/r_b$ and $\\psi = \\omega_0\\bar{t} + \\beta$"
   ]
  },
  {
   "cell_type": "markdown",
   "metadata": {
    "slideshow": {
     "slide_type": "slide"
    }
   },
   "source": [
    "## The Pertubation Solutions for a Stance Map\n",
    "---\n",
    "Using a small leg compression assumption, we assume that $\\epsilon$ is small allowing the fractional term in $(23)$ to be expanded as:\n",
    "$$\n",
    "\\begin{equation*}\n",
    "\\frac{1}{1 + \\epsilon cos\\psi} = 1 - \\epsilon cos\\psi + \\epsilon^2cos^2\\psi + ..\n",
    "\\tag{24}\n",
    "\\end{equation*}\n",
    "$$\n",
    "\n",
    "Neglecting the higher terms of $\\epsilon$ in $(24)$ gives:\n",
    "$$\n",
    "\\begin{equation*}\n",
    "u'' - (\\lambda^2 - \\epsilon\\delta cos\\psi)u = 0\n",
    "\\tag{25}\n",
    "\\end{equation*}\n",
    "$$\n",
    "\n",
    "where $\\lambda = \\frac{1}{\\sqrt{r_b}} > 0$ and $\\delta = \\omega_0^2 + \\frac{1}{r_b} > 0$. A regular perturbation solution to $(25)$ is then created in terms of a power series in $\\epsilon$:\n",
    "$$\n",
    "\\begin{equation*}\n",
    "u(\\bar{t}, \\epsilon) = u_0(\\bar{t}) + \\epsilon u_1(\\bar{t}) + \\epsilon^2u_2(\\bar{t}) + ...\n",
    "\\tag{26}\n",
    "\\end{equation*}\n",
    "$$\n",
    "\n",
    "Substituting $(26)$ into $(25)$ and balancing the coefficients of $\\epsilon$ allows the first order expansions to be derived\n",
    "$$\n",
    "O(1): u_0'' - \\lambda^2u_0 = 0\\\\\n",
    "O(\\epsilon): u_1'' - \\lambda^2u_1 = -\\delta u_0cos\\psi\n",
    "$$\n",
    "\n",
    "The **general solution** of $O(1)$ is then written as $u_0 = C_1e^{\\lambda \\bar{t}} + C_2e^{-\\lambda \\bar{t}}$ where $C_1$ and $C_2$ are arbitrary constants based on the initial conditions. Substituting this into $O(\\epsilon)$ gives an inhomogeneous equation of which the particular solution can be expressed as:\n",
    "$$\n",
    "\\begin{equation*}\n",
    "u_1 = \\frac{\\delta C_1}{\\omega_0^2 + 4\\lambda^2}e^{\\lambda \\bar{t}}(cos\\psi - \\frac{2\\lambda}{\\omega_0}sin\\psi) + \\frac{\\delta C_2}{\\omega_0^2 + 4\\lambda^2}e^{-\\lambda \\bar{t}}(cos\\psi + \\frac{2\\lambda}{\\omega_0}sin\\psi)\n",
    "\\tag{27}\n",
    "\\end{equation*}\n",
    "$$\n",
    "\n",
    "The approximate solution is restricted to the first order expansion. Applying the initial conditions for $u(0)$ and $u'(0)$, we can determine the constants $C_1$ and $C_2$. An approximate solution of $\\theta$ can then be expressed as:\n",
    "$$\n",
    "\\begin{equation*}\n",
    "\\theta(\\bar{t}) = \\frac{u_0(\\bar{t}) + \\epsilon u_1(\\bar{t})}{\\bar{r}(\\bar{t})}\n",
    "\\tag{28}\n",
    "\\end{equation*}\n",
    "$$\n",
    "\n",
    "The above approximations predict stance trajectory of SLIP in for symmetric and assymetric cases."
   ]
  },
  {
   "cell_type": "markdown",
   "metadata": {
    "slideshow": {
     "slide_type": "slide"
    }
   },
   "source": [
    "## Previous Existing Approximation Tools for Stance Map\n",
    "---\n",
    "** Schwind et al. **\n",
    "- Use mean value theorem and Picard's iterations to acquire a gravity constrained iterative solution\n",
    "- Based on Hamiltonian Dynamics\n",
    "\n",
    "** Geyer et al. **\n",
    "- Assumes conservation of angular momentum; focused on symmetric stride length about a neutral point\n",
    "- Assumes small relative spring compression (therefore leg stiffness high)\n",
    "- Works well in symmetric locomotion about a vertical line\n",
    "\n",
    "** Arslan et al. **\n",
    "- Extension of Geyer but with gravity correction scheme in asymmetric locomotion\n",
    "- Introduce an angular momentum correction during stance phase, improving accuracy in symmetric and asymmetric case"
   ]
  },
  {
   "cell_type": "markdown",
   "metadata": {
    "slideshow": {
     "slide_type": "slide"
    }
   },
   "source": [
    "## Model Comparison\n",
    "---\n",
    "Simulations are operated in 2-D of initial states including height $y_{apex}$ and horizontal velocity $\\dot{x}_{apex}$ at the apex.\n",
    "\n",
    "Considering biological data mentioned in literature:\n",
    "- human with body mass 80 kg\n",
    "- leg length $r_0$ of 1 m\n",
    "- running speed range of 2 - 6 m/s\n",
    "- relative leg stiffness $\\bar{k}$ remains constant at 10\n",
    "\n",
    "Chose dimensionless initial conditions as:\n",
    "- $\\bar{k} = 10$\n",
    "- $y_{apex}$ in the range of 0.95 to 1.05\n",
    "- $\\dot{x}_{apex}$ in the range of 2 to 6\n",
    "\n",
    "Ran 6500 simulations for different initial conditions in MATLAB, applying variable time steps and fourth order Runge-kutta method to solve SLIP system dynamics."
   ]
  },
  {
   "attachments": {},
   "cell_type": "markdown",
   "metadata": {
    "slideshow": {
     "slide_type": "slide"
    }
   },
   "source": [
    "## Model Comparison \n",
    "---\n",
    "Perturbation approximation model performs best as seen below, with max percentage errors less than 15% and mean value percentage errors less than 5%. Arslan's model has small errors as well since it also takes into account gravitational effects.\n",
    "![image5_title](comparison_1.png)"
   ]
  },
  {
   "attachments": {},
   "cell_type": "markdown",
   "metadata": {
    "slideshow": {
     "slide_type": "slide"
    }
   },
   "source": [
    "## Model Comparison\n",
    "---\n",
    "The perturbation approximation performs better than the other 3 models in both symmetric and asymmetric cases. Since Arslan's model also outperforms the other two, this strongly suggests that gravitational forces cannot be neglected in asymmetric stance locomotion.\n",
    "![image6_title](comparison_2.png)\n",
    "$$PE_{y{apex}} \\qquad \\qquad \\qquad \\qquad \\qquad \\qquad \\qquad \\qquad \\qquad \\qquad \\qquad \\qquad PE_{x'_{apex}}$$"
   ]
  },
  {
   "cell_type": "markdown",
   "metadata": {
    "slideshow": {
     "slide_type": "slide"
    }
   },
   "source": [
    "## Conclusion\n",
    "---\n",
    "The perturbation model is quite precise in predicting the apex variables (height and horizontal velocity) as seen from the percentage error comparisons with the other existing approximations. It also performs better in both symmetric and asymmetric motion.\n",
    "\n",
    "Author Suggested Future work:\n",
    "- Extend the perturbation of the SLIP model to include damping\n",
    "- Focus on more robust robot behavior in tough terrain\n",
    "\n",
    "---\n",
    "*My thoughts on future work:*\n",
    "- Modify the SLIP model to account for absolute thigh & shank angles and relative hip, knee, and ankle angles\n",
    "- Apply similar perturbation approach\n",
    "- Run simulations for other populations\n",
    "    - Disabled\n",
    "    - Elite athletes\n",
    "    - etc."
   ]
  },
  {
   "cell_type": "markdown",
   "metadata": {
    "slideshow": {
     "slide_type": "slide"
    }
   },
   "source": [
    "## Questions and thoughts?"
   ]
  },
  {
   "cell_type": "code",
   "execution_count": null,
   "metadata": {
    "collapsed": true
   },
   "outputs": [],
   "source": []
  }
 ],
 "metadata": {
  "celltoolbar": "Slideshow",
  "kernelspec": {
   "display_name": "Python 2",
   "language": "python",
   "name": "python2"
  },
  "language_info": {
   "codemirror_mode": {
    "name": "ipython",
    "version": 2
   },
   "file_extension": ".py",
   "mimetype": "text/x-python",
   "name": "python",
   "nbconvert_exporter": "python",
   "pygments_lexer": "ipython2",
   "version": "2.7.13"
  }
 },
 "nbformat": 4,
 "nbformat_minor": 2
}
